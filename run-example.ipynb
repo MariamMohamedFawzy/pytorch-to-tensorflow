{
 "cells": [
  {
   "cell_type": "code",
   "execution_count": 1,
   "metadata": {
    "collapsed": true
   },
   "outputs": [],
   "source": [
    "%load_ext autoreload\n",
    "%autoreload 2"
   ]
  },
  {
   "cell_type": "code",
   "execution_count": 104,
   "metadata": {
    "collapsed": true
   },
   "outputs": [],
   "source": [
    "import numpy as np\n",
    "import matplotlib.image as mpimg\n",
    "import cv2\n",
    "import json\n",
    "\n",
    "import tensorflow as tf\n",
    "import torch\n",
    "import re\n",
    "import glob\n",
    "\n",
    "from resnet import *"
   ]
  },
  {
   "cell_type": "code",
   "execution_count": 105,
   "metadata": {},
   "outputs": [],
   "source": [
    "f = open(\"./imagenet1000_clsidx_to_labels.txt\", \"r\")\n",
    "labels_str = f.read()\n",
    "# labels_str = labels_str.replace(\"'\", \"\\\"\")\n",
    "labels_str = re.sub(r\"( \\')\", r\" \\\"\", labels_str)\n",
    "labels_str = re.sub(r\"\\',\", r\"\\\",\", labels_str)\n",
    "labels_str = re.sub(r\"\\'}\", r\"\\\"}\", labels_str)\n",
    "\n",
    "labels_str = re.sub(r\"(\\d+)\", r\"\\\"\\1\\\"\", labels_str)\n",
    "labels_str = labels_str.replace(\"\\\\\", \"\")\n",
    "\n",
    "labels = json.loads(labels_str)"
   ]
  },
  {
   "cell_type": "code",
   "execution_count": 110,
   "metadata": {},
   "outputs": [],
   "source": [
    "tf.reset_default_graph()\n",
    "image_tensor = tf.placeholder(\"float\", (1, 224, 224, 3), name=\"train_inptus\")\n",
    "resnet18 = ResNet18(image_tensor)"
   ]
  },
  {
   "cell_type": "code",
   "execution_count": 111,
   "metadata": {},
   "outputs": [
    {
     "name": "stdout",
     "output_type": "stream",
     "text": [
      "Label = cat, prediction= Egyptian cat\n",
      "Label = lion, prediction= lion, king of beasts, Panthera leo\n",
      "Label = dog, prediction= Rottweiler\n",
      "Label = elephant, prediction= African elephant, Loxodonta africana\n"
     ]
    }
   ],
   "source": [
    "with tf.Session() as sess:\n",
    "    sess.run(tf.global_variables_initializer())\n",
    "    \n",
    "    for img_path in glob.glob('./images/*.jpeg'):\n",
    "        img = mpimg.imread(img_path)\n",
    "        img = cv2.resize(img, (224, 224))\n",
    "        images = np.array([img]) / 255.0\n",
    "\n",
    "        output = sess.run([resnet18.train_logits], feed_dict={'train_inptus:0': images})\n",
    "\n",
    "        prediction = np.argmax(output[0])\n",
    "\n",
    "        print(\"Label = {0}, prediction= {1}\".format(img_path.split('/')[-1].split('.')[0], labels[str(prediction)]))"
   ]
  },
  {
   "cell_type": "code",
   "execution_count": null,
   "metadata": {
    "collapsed": true
   },
   "outputs": [],
   "source": []
  },
  {
   "cell_type": "code",
   "execution_count": null,
   "metadata": {
    "collapsed": true
   },
   "outputs": [],
   "source": []
  },
  {
   "cell_type": "code",
   "execution_count": null,
   "metadata": {
    "collapsed": true
   },
   "outputs": [],
   "source": []
  },
  {
   "cell_type": "code",
   "execution_count": null,
   "metadata": {
    "collapsed": true
   },
   "outputs": [],
   "source": []
  }
 ],
 "metadata": {
  "kernelspec": {
   "display_name": "Python 3",
   "language": "python",
   "name": "python3"
  },
  "language_info": {
   "codemirror_mode": {
    "name": "ipython",
    "version": 3
   },
   "file_extension": ".py",
   "mimetype": "text/x-python",
   "name": "python",
   "nbconvert_exporter": "python",
   "pygments_lexer": "ipython3",
   "version": "3.6.7"
  }
 },
 "nbformat": 4,
 "nbformat_minor": 2
}
